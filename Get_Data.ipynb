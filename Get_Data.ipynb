{
 "cells": [
  {
   "cell_type": "code",
   "execution_count": 1,
   "metadata": {
    "collapsed": false
   },
   "outputs": [],
   "source": [
    "from bs4 import BeautifulSoup\n",
    "import requests\n",
    "import pandas as pd\n",
    "import numpy as np\n",
    "import yelp_fusion_api as yfa\n",
    "%load_ext autoreload\n",
    "%autoreload 2"
   ]
  },
  {
   "cell_type": "markdown",
   "metadata": {},
   "source": [
    "# Helper Functions"
   ]
  },
  {
   "cell_type": "code",
   "execution_count": 3,
   "metadata": {
    "collapsed": false,
    "scrolled": true
   },
   "outputs": [],
   "source": [
    "bearer_token = yfa.obtain_bearer_token(yfa.API_HOST, yfa.TOKEN_PATH)"
   ]
  },
  {
   "cell_type": "code",
   "execution_count": 39,
   "metadata": {
    "collapsed": false
   },
   "outputs": [],
   "source": [
    "def emit_relevant_yelp_fields(json):\n",
    "    for business_dict in json['businesses']:\n",
    "        loc = business_dict['location']\n",
    "        address = ', '.join(loc['display_address'])\n",
    "        zipcode = loc['zip_code']\n",
    "        name = business_dict['name']\n",
    "        coords = business_dict['coordinates']\n",
    "        lat, long = coords['latitude'], coords['longitude']\n",
    "        cats = business_dict['categories']\n",
    "        categories = set(cat['alias'] for cat in cats)\n",
    "        yield {'address': address,\n",
    "               'name': name,\n",
    "               'zipcode': zipcode,\n",
    "               'categories': categories,\n",
    "               'latitude': lat,\n",
    "               'longitude': long}"
   ]
  },
  {
   "cell_type": "code",
   "execution_count": 40,
   "metadata": {
    "collapsed": false
   },
   "outputs": [],
   "source": [
    "def emit_all_yelp_fields(bearer_token, zipcodes, max_results=150):\n",
    "    for json in yfa.emit_all(bearer_token, zipcodes, max_results=max_results):\n",
    "        yield from emit_relevant_yelp_fields(json)"
   ]
  },
  {
   "cell_type": "markdown",
   "metadata": {},
   "source": [
    "# Generate List of ZipCodes"
   ]
  },
  {
   "cell_type": "code",
   "execution_count": 41,
   "metadata": {
    "collapsed": true
   },
   "outputs": [],
   "source": [
    "df_zip = pd.read_csv('manhattan_zip_codes.tsv', sep='\\t')\n",
    "df_pop = pd.read_csv('census_pop.csv')\n",
    "df_pop.columns = ['Zip Code', 'Population']\n",
    "df_populated_zip = df_pop.merge(df_zip, on='Zip Code', how='inner')"
   ]
  },
  {
   "cell_type": "markdown",
   "metadata": {},
   "source": [
    "# Scrape"
   ]
  },
  {
   "cell_type": "code",
   "execution_count": 93,
   "metadata": {
    "collapsed": false
   },
   "outputs": [
    {
     "data": {
      "text/plain": [
       "Index(['address', 'categories', 'latitude', 'longitude', 'name', 'zipcode'], dtype='object')"
      ]
     },
     "execution_count": 93,
     "metadata": {},
     "output_type": "execute_result"
    }
   ],
   "source": [
    "df_yelp.columns"
   ]
  },
  {
   "cell_type": "code",
   "execution_count": 43,
   "metadata": {
    "collapsed": false,
    "scrolled": false
   },
   "outputs": [
    {
     "name": "stdout",
     "output_type": "stream",
     "text": [
      "Querying https://api.yelp.com/v3/businesses/search ...\n",
      "Querying https://api.yelp.com/v3/businesses/search ...\n",
      "Querying https://api.yelp.com/v3/businesses/search ...\n",
      "Querying https://api.yelp.com/v3/businesses/search ...\n",
      "Querying https://api.yelp.com/v3/businesses/search ...\n",
      "Querying https://api.yelp.com/v3/businesses/search ...\n",
      "Querying https://api.yelp.com/v3/businesses/search ...\n",
      "Querying https://api.yelp.com/v3/businesses/search ...\n",
      "Querying https://api.yelp.com/v3/businesses/search ...\n",
      "Querying https://api.yelp.com/v3/businesses/search ...\n",
      "Querying https://api.yelp.com/v3/businesses/search ...\n",
      "Querying https://api.yelp.com/v3/businesses/search ...\n",
      "Querying https://api.yelp.com/v3/businesses/search ...\n",
      "Querying https://api.yelp.com/v3/businesses/search ...\n",
      "Querying https://api.yelp.com/v3/businesses/search ...\n",
      "Querying https://api.yelp.com/v3/businesses/search ...\n",
      "Querying https://api.yelp.com/v3/businesses/search ...\n",
      "Querying https://api.yelp.com/v3/businesses/search ...\n",
      "Querying https://api.yelp.com/v3/businesses/search ...\n",
      "Querying https://api.yelp.com/v3/businesses/search ...\n",
      "Querying https://api.yelp.com/v3/businesses/search ...\n",
      "Querying https://api.yelp.com/v3/businesses/search ...\n",
      "Querying https://api.yelp.com/v3/businesses/search ...\n",
      "Querying https://api.yelp.com/v3/businesses/search ...\n",
      "Querying https://api.yelp.com/v3/businesses/search ...\n",
      "Querying https://api.yelp.com/v3/businesses/search ...\n",
      "Querying https://api.yelp.com/v3/businesses/search ...\n",
      "Querying https://api.yelp.com/v3/businesses/search ...\n",
      "Querying https://api.yelp.com/v3/businesses/search ...\n",
      "Querying https://api.yelp.com/v3/businesses/search ...\n",
      "Querying https://api.yelp.com/v3/businesses/search ...\n",
      "Querying https://api.yelp.com/v3/businesses/search ...\n",
      "Querying https://api.yelp.com/v3/businesses/search ...\n",
      "Querying https://api.yelp.com/v3/businesses/search ...\n",
      "Querying https://api.yelp.com/v3/businesses/search ...\n",
      "Querying https://api.yelp.com/v3/businesses/search ...\n",
      "Querying https://api.yelp.com/v3/businesses/search ...\n",
      "Querying https://api.yelp.com/v3/businesses/search ...\n",
      "Querying https://api.yelp.com/v3/businesses/search ...\n",
      "Querying https://api.yelp.com/v3/businesses/search ...\n",
      "Querying https://api.yelp.com/v3/businesses/search ...\n",
      "Querying https://api.yelp.com/v3/businesses/search ...\n",
      "Querying https://api.yelp.com/v3/businesses/search ...\n",
      "Querying https://api.yelp.com/v3/businesses/search ...\n",
      "Querying https://api.yelp.com/v3/businesses/search ...\n",
      "Querying https://api.yelp.com/v3/businesses/search ...\n",
      "Querying https://api.yelp.com/v3/businesses/search ...\n",
      "Querying https://api.yelp.com/v3/businesses/search ...\n",
      "Querying https://api.yelp.com/v3/businesses/search ...\n",
      "Querying https://api.yelp.com/v3/businesses/search ...\n",
      "Querying https://api.yelp.com/v3/businesses/search ...\n",
      "Querying https://api.yelp.com/v3/businesses/search ...\n",
      "Querying https://api.yelp.com/v3/businesses/search ...\n",
      "Querying https://api.yelp.com/v3/businesses/search ...\n",
      "Querying https://api.yelp.com/v3/businesses/search ...\n",
      "Querying https://api.yelp.com/v3/businesses/search ...\n",
      "Querying https://api.yelp.com/v3/businesses/search ...\n",
      "Querying https://api.yelp.com/v3/businesses/search ...\n",
      "Querying https://api.yelp.com/v3/businesses/search ...\n",
      "Querying https://api.yelp.com/v3/businesses/search ...\n",
      "Querying https://api.yelp.com/v3/businesses/search ...\n",
      "Querying https://api.yelp.com/v3/businesses/search ...\n",
      "Querying https://api.yelp.com/v3/businesses/search ...\n",
      "Querying https://api.yelp.com/v3/businesses/search ...\n",
      "Querying https://api.yelp.com/v3/businesses/search ...\n",
      "Querying https://api.yelp.com/v3/businesses/search ...\n",
      "Querying https://api.yelp.com/v3/businesses/search ...\n",
      "Querying https://api.yelp.com/v3/businesses/search ...\n",
      "Querying https://api.yelp.com/v3/businesses/search ...\n",
      "Querying https://api.yelp.com/v3/businesses/search ...\n",
      "Querying https://api.yelp.com/v3/businesses/search ...\n",
      "Querying https://api.yelp.com/v3/businesses/search ...\n",
      "Querying https://api.yelp.com/v3/businesses/search ...\n",
      "Querying https://api.yelp.com/v3/businesses/search ...\n",
      "Querying https://api.yelp.com/v3/businesses/search ...\n",
      "Querying https://api.yelp.com/v3/businesses/search ...\n",
      "Querying https://api.yelp.com/v3/businesses/search ...\n",
      "Querying https://api.yelp.com/v3/businesses/search ...\n",
      "Querying https://api.yelp.com/v3/businesses/search ...\n",
      "Querying https://api.yelp.com/v3/businesses/search ...\n",
      "Querying https://api.yelp.com/v3/businesses/search ...\n",
      "Querying https://api.yelp.com/v3/businesses/search ...\n",
      "Querying https://api.yelp.com/v3/businesses/search ...\n",
      "Querying https://api.yelp.com/v3/businesses/search ...\n",
      "Querying https://api.yelp.com/v3/businesses/search ...\n",
      "Querying https://api.yelp.com/v3/businesses/search ...\n",
      "Querying https://api.yelp.com/v3/businesses/search ...\n",
      "Querying https://api.yelp.com/v3/businesses/search ...\n",
      "Querying https://api.yelp.com/v3/businesses/search ...\n",
      "Querying https://api.yelp.com/v3/businesses/search ...\n",
      "Querying https://api.yelp.com/v3/businesses/search ...\n",
      "Querying https://api.yelp.com/v3/businesses/search ...\n",
      "Querying https://api.yelp.com/v3/businesses/search ...\n",
      "Querying https://api.yelp.com/v3/businesses/search ...\n",
      "Querying https://api.yelp.com/v3/businesses/search ...\n",
      "Querying https://api.yelp.com/v3/businesses/search ...\n",
      "Querying https://api.yelp.com/v3/businesses/search ...\n",
      "Querying https://api.yelp.com/v3/businesses/search ...\n",
      "Querying https://api.yelp.com/v3/businesses/search ...\n",
      "Querying https://api.yelp.com/v3/businesses/search ...\n",
      "Querying https://api.yelp.com/v3/businesses/search ...\n",
      "Querying https://api.yelp.com/v3/businesses/search ...\n",
      "Querying https://api.yelp.com/v3/businesses/search ...\n",
      "Querying https://api.yelp.com/v3/businesses/search ...\n",
      "Querying https://api.yelp.com/v3/businesses/search ...\n",
      "Querying https://api.yelp.com/v3/businesses/search ...\n",
      "Querying https://api.yelp.com/v3/businesses/search ...\n",
      "Querying https://api.yelp.com/v3/businesses/search ...\n",
      "Querying https://api.yelp.com/v3/businesses/search ...\n",
      "Querying https://api.yelp.com/v3/businesses/search ...\n",
      "Querying https://api.yelp.com/v3/businesses/search ...\n",
      "Querying https://api.yelp.com/v3/businesses/search ...\n",
      "Querying https://api.yelp.com/v3/businesses/search ...\n",
      "Querying https://api.yelp.com/v3/businesses/search ...\n",
      "Querying https://api.yelp.com/v3/businesses/search ...\n",
      "Querying https://api.yelp.com/v3/businesses/search ...\n",
      "Querying https://api.yelp.com/v3/businesses/search ...\n",
      "Querying https://api.yelp.com/v3/businesses/search ...\n",
      "Querying https://api.yelp.com/v3/businesses/search ...\n",
      "Querying https://api.yelp.com/v3/businesses/search ...\n",
      "Querying https://api.yelp.com/v3/businesses/search ...\n",
      "Querying https://api.yelp.com/v3/businesses/search ...\n",
      "Querying https://api.yelp.com/v3/businesses/search ...\n",
      "Querying https://api.yelp.com/v3/businesses/search ...\n",
      "Querying https://api.yelp.com/v3/businesses/search ...\n",
      "Querying https://api.yelp.com/v3/businesses/search ...\n",
      "Querying https://api.yelp.com/v3/businesses/search ...\n",
      "Querying https://api.yelp.com/v3/businesses/search ...\n",
      "Querying https://api.yelp.com/v3/businesses/search ...\n",
      "Querying https://api.yelp.com/v3/businesses/search ...\n",
      "Querying https://api.yelp.com/v3/businesses/search ...\n",
      "Querying https://api.yelp.com/v3/businesses/search ...\n",
      "Querying https://api.yelp.com/v3/businesses/search ...\n",
      "Querying https://api.yelp.com/v3/businesses/search ...\n",
      "Querying https://api.yelp.com/v3/businesses/search ...\n",
      "Querying https://api.yelp.com/v3/businesses/search ...\n",
      "Querying https://api.yelp.com/v3/businesses/search ...\n",
      "Querying https://api.yelp.com/v3/businesses/search ...\n",
      "Querying https://api.yelp.com/v3/businesses/search ...\n",
      "Querying https://api.yelp.com/v3/businesses/search ...\n",
      "Querying https://api.yelp.com/v3/businesses/search ...\n",
      "Querying https://api.yelp.com/v3/businesses/search ...\n",
      "Querying https://api.yelp.com/v3/businesses/search ...\n",
      "Querying https://api.yelp.com/v3/businesses/search ...\n",
      "Querying https://api.yelp.com/v3/businesses/search ...\n",
      "Querying https://api.yelp.com/v3/businesses/search ...\n",
      "Querying https://api.yelp.com/v3/businesses/search ...\n",
      "Querying https://api.yelp.com/v3/businesses/search ...\n",
      "Querying https://api.yelp.com/v3/businesses/search ...\n",
      "Querying https://api.yelp.com/v3/businesses/search ...\n",
      "Querying https://api.yelp.com/v3/businesses/search ...\n",
      "Querying https://api.yelp.com/v3/businesses/search ...\n",
      "Querying https://api.yelp.com/v3/businesses/search ...\n",
      "Querying https://api.yelp.com/v3/businesses/search ...\n",
      "Querying https://api.yelp.com/v3/businesses/search ...\n",
      "Querying https://api.yelp.com/v3/businesses/search ...\n",
      "Querying https://api.yelp.com/v3/businesses/search ...\n",
      "Querying https://api.yelp.com/v3/businesses/search ...\n",
      "Querying https://api.yelp.com/v3/businesses/search ...\n",
      "Querying https://api.yelp.com/v3/businesses/search ...\n",
      "Querying https://api.yelp.com/v3/businesses/search ...\n",
      "Querying https://api.yelp.com/v3/businesses/search ...\n",
      "Querying https://api.yelp.com/v3/businesses/search ...\n",
      "Querying https://api.yelp.com/v3/businesses/search ...\n",
      "Querying https://api.yelp.com/v3/businesses/search ...\n",
      "Querying https://api.yelp.com/v3/businesses/search ...\n",
      "Querying https://api.yelp.com/v3/businesses/search ...\n",
      "Querying https://api.yelp.com/v3/businesses/search ...\n",
      "Querying https://api.yelp.com/v3/businesses/search ...\n",
      "Querying https://api.yelp.com/v3/businesses/search ...\n",
      "Querying https://api.yelp.com/v3/businesses/search ...\n",
      "Querying https://api.yelp.com/v3/businesses/search ...\n",
      "Querying https://api.yelp.com/v3/businesses/search ...\n",
      "Querying https://api.yelp.com/v3/businesses/search ...\n",
      "Querying https://api.yelp.com/v3/businesses/search ...\n",
      "Querying https://api.yelp.com/v3/businesses/search ...\n",
      "Querying https://api.yelp.com/v3/businesses/search ...\n",
      "Querying https://api.yelp.com/v3/businesses/search ...\n",
      "Querying https://api.yelp.com/v3/businesses/search ...\n",
      "Querying https://api.yelp.com/v3/businesses/search ...\n",
      "Querying https://api.yelp.com/v3/businesses/search ...\n",
      "Querying https://api.yelp.com/v3/businesses/search ...\n",
      "Querying https://api.yelp.com/v3/businesses/search ...\n",
      "Querying https://api.yelp.com/v3/businesses/search ...\n",
      "Querying https://api.yelp.com/v3/businesses/search ...\n",
      "Querying https://api.yelp.com/v3/businesses/search ...\n",
      "Querying https://api.yelp.com/v3/businesses/search ...\n",
      "Querying https://api.yelp.com/v3/businesses/search ...\n",
      "Querying https://api.yelp.com/v3/businesses/search ...\n",
      "Querying https://api.yelp.com/v3/businesses/search ...\n",
      "Querying https://api.yelp.com/v3/businesses/search ...\n",
      "Querying https://api.yelp.com/v3/businesses/search ...\n",
      "Querying https://api.yelp.com/v3/businesses/search ...\n",
      "Querying https://api.yelp.com/v3/businesses/search ...\n",
      "Querying https://api.yelp.com/v3/businesses/search ...\n",
      "Querying https://api.yelp.com/v3/businesses/search ...\n",
      "Querying https://api.yelp.com/v3/businesses/search ...\n",
      "Querying https://api.yelp.com/v3/businesses/search ...\n",
      "Querying https://api.yelp.com/v3/businesses/search ...\n",
      "Querying https://api.yelp.com/v3/businesses/search ...\n",
      "Querying https://api.yelp.com/v3/businesses/search ...\n",
      "Querying https://api.yelp.com/v3/businesses/search ...\n",
      "Querying https://api.yelp.com/v3/businesses/search ...\n",
      "Querying https://api.yelp.com/v3/businesses/search ...\n",
      "Querying https://api.yelp.com/v3/businesses/search ...\n",
      "Querying https://api.yelp.com/v3/businesses/search ...\n",
      "Querying https://api.yelp.com/v3/businesses/search ...\n",
      "Querying https://api.yelp.com/v3/businesses/search ...\n",
      "Querying https://api.yelp.com/v3/businesses/search ...\n",
      "Querying https://api.yelp.com/v3/businesses/search ...\n"
     ]
    }
   ],
   "source": [
    "df_yelp = pd.DataFrame(emit_all_yelp_fields(bearer_token, df_populated_zip['Zip Code'], max_results=150))"
   ]
  },
  {
   "cell_type": "code",
   "execution_count": 49,
   "metadata": {
    "collapsed": true
   },
   "outputs": [],
   "source": [
    "df_yelp.to_csv('df_yelp.csv')"
   ]
  },
  {
   "cell_type": "markdown",
   "metadata": {},
   "source": [
    "# Cleanup"
   ]
  },
  {
   "cell_type": "code",
   "execution_count": 110,
   "metadata": {
    "collapsed": true
   },
   "outputs": [],
   "source": [
    "def cleanup(df_yelp, df_zip):\n",
    "    df = df_yelp.copy()\n",
    "    # eliminate duplicates, assume addresses are unique\n",
    "    df = df.drop_duplicates(subset='address')\n",
    "    \n",
    "    # eliminate non-groceries\n",
    "    f = lambda x: 'grocery' in x\n",
    "    good_idx = df['categories'].apply(f)\n",
    "    df = df[good_idx]\n",
    "    \n",
    "    # eliminate stores with no zipcode\n",
    "    bad_idx = (df['zipcode'] == '') | df['zipcode'].isnull()\n",
    "    df = df[~bad_idx]\n",
    "        \n",
    "    # eliminate zip codes outside of manhattan\n",
    "    df['Zip Code'] = df['zipcode'].astype(int)\n",
    "    df = df.merge(df_zip, how='inner', on='Zip Code')\n",
    "    return df"
   ]
  },
  {
   "cell_type": "code",
   "execution_count": 115,
   "metadata": {
    "collapsed": false
   },
   "outputs": [],
   "source": [
    "df = cleanup(df_yelp, df_zip)"
   ]
  },
  {
   "cell_type": "code",
   "execution_count": 118,
   "metadata": {
    "collapsed": true
   },
   "outputs": [],
   "source": [
    "df.to_csv('df_yelp_cleaned_up.csv')"
   ]
  },
  {
   "cell_type": "code",
   "execution_count": 126,
   "metadata": {
    "collapsed": false
   },
   "outputs": [
    {
     "data": {
      "text/html": [
       "<div>\n",
       "<table border=\"1\" class=\"dataframe\">\n",
       "  <thead>\n",
       "    <tr style=\"text-align: right;\">\n",
       "      <th></th>\n",
       "      <th>address</th>\n",
       "      <th>categories</th>\n",
       "      <th>latitude</th>\n",
       "      <th>longitude</th>\n",
       "      <th>name</th>\n",
       "      <th>zipcode</th>\n",
       "      <th>Zip Code</th>\n",
       "      <th>Neighborhood</th>\n",
       "    </tr>\n",
       "  </thead>\n",
       "  <tbody>\n",
       "    <tr>\n",
       "      <th>120</th>\n",
       "      <td>917 9th Ave, New York, NY 10019</td>\n",
       "      <td>{grocery}</td>\n",
       "      <td>40.768842</td>\n",
       "      <td>-73.985245</td>\n",
       "      <td>Associated Supermarkets</td>\n",
       "      <td>10019</td>\n",
       "      <td>10019</td>\n",
       "      <td>West Midtown</td>\n",
       "    </tr>\n",
       "    <tr>\n",
       "      <th>157</th>\n",
       "      <td>409 E 14th St, New York, NY 10009</td>\n",
       "      <td>{markets, grocery}</td>\n",
       "      <td>40.731390</td>\n",
       "      <td>-73.981937</td>\n",
       "      <td>Associated Supermarkets</td>\n",
       "      <td>10009</td>\n",
       "      <td>10009</td>\n",
       "      <td>East Greenwich Village</td>\n",
       "    </tr>\n",
       "    <tr>\n",
       "      <th>163</th>\n",
       "      <td>123 Ave C, New York, NY 10009</td>\n",
       "      <td>{grocery}</td>\n",
       "      <td>40.724588</td>\n",
       "      <td>-73.978674</td>\n",
       "      <td>Associated Supermarkets</td>\n",
       "      <td>10009</td>\n",
       "      <td>10009</td>\n",
       "      <td>East Greenwich Village</td>\n",
       "    </tr>\n",
       "    <tr>\n",
       "      <th>398</th>\n",
       "      <td>755 Amsterdam Ave, New York, NY 10025</td>\n",
       "      <td>{grocery}</td>\n",
       "      <td>40.794407</td>\n",
       "      <td>-73.969911</td>\n",
       "      <td>Associated Supermarket</td>\n",
       "      <td>10025</td>\n",
       "      <td>10025</td>\n",
       "      <td>Upper West Side</td>\n",
       "    </tr>\n",
       "    <tr>\n",
       "      <th>402</th>\n",
       "      <td>13 W 100th St, New York, NY 10025</td>\n",
       "      <td>{grocery}</td>\n",
       "      <td>40.794678</td>\n",
       "      <td>-73.963348</td>\n",
       "      <td>Associated Supermarket</td>\n",
       "      <td>10025</td>\n",
       "      <td>10025</td>\n",
       "      <td>Upper West Side</td>\n",
       "    </tr>\n",
       "    <tr>\n",
       "      <th>444</th>\n",
       "      <td>2296 Frederick Douglass Boulevard, New York, N...</td>\n",
       "      <td>{grocery}</td>\n",
       "      <td>40.809091</td>\n",
       "      <td>-73.951892</td>\n",
       "      <td>Associated</td>\n",
       "      <td>10027</td>\n",
       "      <td>10027</td>\n",
       "      <td>Morningside Heights</td>\n",
       "    </tr>\n",
       "    <tr>\n",
       "      <th>451</th>\n",
       "      <td>2212 3rd Ave, New York, NY 10035</td>\n",
       "      <td>{grocery}</td>\n",
       "      <td>40.801048</td>\n",
       "      <td>-73.938163</td>\n",
       "      <td>Associated Supermarket</td>\n",
       "      <td>10035</td>\n",
       "      <td>10035</td>\n",
       "      <td>East Harlem</td>\n",
       "    </tr>\n",
       "    <tr>\n",
       "      <th>483</th>\n",
       "      <td>3871 Broadway, New York, NY 10032</td>\n",
       "      <td>{grocery}</td>\n",
       "      <td>40.836970</td>\n",
       "      <td>-73.942923</td>\n",
       "      <td>Associated Supermarket</td>\n",
       "      <td>10032</td>\n",
       "      <td>10032</td>\n",
       "      <td>Washington Heights</td>\n",
       "    </tr>\n",
       "    <tr>\n",
       "      <th>488</th>\n",
       "      <td>448 Malcolm X Blvd, New York, NY 10037</td>\n",
       "      <td>{grocery}</td>\n",
       "      <td>40.812362</td>\n",
       "      <td>-73.941987</td>\n",
       "      <td>Associated Supermarket</td>\n",
       "      <td>10037</td>\n",
       "      <td>10037</td>\n",
       "      <td>Harlem</td>\n",
       "    </tr>\n",
       "    <tr>\n",
       "      <th>510</th>\n",
       "      <td>592 Fort Washington Ave, New York, NY 10033</td>\n",
       "      <td>{grocery}</td>\n",
       "      <td>40.854890</td>\n",
       "      <td>-73.936640</td>\n",
       "      <td>Associated Supermarket</td>\n",
       "      <td>10033</td>\n",
       "      <td>10033</td>\n",
       "      <td>Washington Heights</td>\n",
       "    </tr>\n",
       "  </tbody>\n",
       "</table>\n",
       "</div>"
      ],
      "text/plain": [
       "                                               address          categories  \\\n",
       "120                    917 9th Ave, New York, NY 10019           {grocery}   \n",
       "157                  409 E 14th St, New York, NY 10009  {markets, grocery}   \n",
       "163                      123 Ave C, New York, NY 10009           {grocery}   \n",
       "398              755 Amsterdam Ave, New York, NY 10025           {grocery}   \n",
       "402                  13 W 100th St, New York, NY 10025           {grocery}   \n",
       "444  2296 Frederick Douglass Boulevard, New York, N...           {grocery}   \n",
       "451                   2212 3rd Ave, New York, NY 10035           {grocery}   \n",
       "483                  3871 Broadway, New York, NY 10032           {grocery}   \n",
       "488             448 Malcolm X Blvd, New York, NY 10037           {grocery}   \n",
       "510        592 Fort Washington Ave, New York, NY 10033           {grocery}   \n",
       "\n",
       "      latitude  longitude                     name zipcode  Zip Code  \\\n",
       "120  40.768842 -73.985245  Associated Supermarkets   10019     10019   \n",
       "157  40.731390 -73.981937  Associated Supermarkets   10009     10009   \n",
       "163  40.724588 -73.978674  Associated Supermarkets   10009     10009   \n",
       "398  40.794407 -73.969911   Associated Supermarket   10025     10025   \n",
       "402  40.794678 -73.963348   Associated Supermarket   10025     10025   \n",
       "444  40.809091 -73.951892               Associated   10027     10027   \n",
       "451  40.801048 -73.938163   Associated Supermarket   10035     10035   \n",
       "483  40.836970 -73.942923   Associated Supermarket   10032     10032   \n",
       "488  40.812362 -73.941987   Associated Supermarket   10037     10037   \n",
       "510  40.854890 -73.936640   Associated Supermarket   10033     10033   \n",
       "\n",
       "               Neighborhood  \n",
       "120            West Midtown  \n",
       "157  East Greenwich Village  \n",
       "163  East Greenwich Village  \n",
       "398         Upper West Side  \n",
       "402         Upper West Side  \n",
       "444     Morningside Heights  \n",
       "451             East Harlem  \n",
       "483      Washington Heights  \n",
       "488                  Harlem  \n",
       "510      Washington Heights  "
      ]
     },
     "execution_count": 126,
     "metadata": {},
     "output_type": "execute_result"
    }
   ],
   "source": [
    "df[df['name'].str.contains('Associated')]"
   ]
  },
  {
   "cell_type": "code",
   "execution_count": null,
   "metadata": {
    "collapsed": true
   },
   "outputs": [],
   "source": []
  }
 ],
 "metadata": {
  "anaconda-cloud": {},
  "kernelspec": {
   "display_name": "Python [default]",
   "language": "python",
   "name": "python3"
  },
  "language_info": {
   "codemirror_mode": {
    "name": "ipython",
    "version": 3
   },
   "file_extension": ".py",
   "mimetype": "text/x-python",
   "name": "python",
   "nbconvert_exporter": "python",
   "pygments_lexer": "ipython3",
   "version": "3.5.2"
  }
 },
 "nbformat": 4,
 "nbformat_minor": 2
}
